{
 "cells": [
  {
   "cell_type": "markdown",
   "id": "6b4feb1a-f5fb-4820-b1cb-c8819ae24aa0",
   "metadata": {},
   "source": [
    "# Data Science Tools and Ecosystem\n"
   ]
  },
  {
   "cell_type": "markdown",
   "id": "5e62cea7-bdaf-427d-b717-633ce7a109df",
   "metadata": {},
   "source": [
    "In this notebook, Data Science Tools and Ecosystem are summarized."
   ]
  },
  {
   "cell_type": "markdown",
   "id": "db137292-2f41-48e9-bed4-3324e5194f63",
   "metadata": {},
   "source": [
    "Some of the popular languages that Data Scientists use are:\r\n",
    "1. Python\r\n",
    "2. R\r\n",
    "3. SQL\r\n",
    "4. Julia"
   ]
  },
  {
   "cell_type": "markdown",
   "id": "cea5c0d3-567f-433a-b818-ea72be26c2ff",
   "metadata": {},
   "source": [
    "Some of the commonly used libraries used by Data Scientists include:\r\n",
    "1. Pandas\r\n",
    "2. NumPy\r\n",
    "3. Matplotlib\r\n",
    "4. Scikit-learn"
   ]
  },
  {
   "cell_type": "markdown",
   "id": "aec0868f-1c7e-4bde-947a-39e7e443ab4c",
   "metadata": {},
   "source": [
    "| Data Science Tools |\r\n",
    "|---------------------|\r\n",
    "| Jupyter Notebook    |\r\n",
    "| RStudio             |\r\n",
    "| Apache Zeppelin     |\r\n"
   ]
  },
  {
   "cell_type": "markdown",
   "id": "745ae0e4-e5b2-4818-8450-4f6d6a1717f3",
   "metadata": {},
   "source": [
    "### Below are a few examples of evaluating arithmetic expressions in Python.\r\n"
   ]
  },
  {
   "cell_type": "code",
   "execution_count": null,
   "id": "03df04d7-d54b-430a-b5da-ae76d56b7fed",
   "metadata": {},
   "outputs": [],
   "source": [
    "# This a simple arithmetic expression to multiply then add integers\n",
    "(3*4)+5\n"
   ]
  },
  {
   "cell_type": "code",
   "execution_count": null,
   "id": "875d56af-85d4-4b37-8d9e-8b506eb96f9b",
   "metadata": {},
   "outputs": [],
   "source": [
    "# This will convert 200 minutes to hours by dividing by 60\n",
    "200 / 60"
   ]
  },
  {
   "cell_type": "markdown",
   "id": "6e84157e-b5e9-455e-83d7-ee49df810b2a",
   "metadata": {},
   "source": [
    "**Objectives:**\r\n",
    "- List popular languages for Data Science\r\n",
    "- List commonly used libraries by Data Scientists\r\n",
    "- Create tables using Markdown\r\n",
    "- Perform arithmetic operations using Python code\r\n",
    "- Convert units (minutes to hours)\r\n"
   ]
  },
  {
   "cell_type": "markdown",
   "id": "18e7c604-c395-406e-818b-291118f07331",
   "metadata": {},
   "source": [
    "## Author\r",
    "Sachindra Samadhie\r\n"
   ]
  }
 ],
 "metadata": {
  "kernelspec": {
   "display_name": "anaconda-2024.02-py310",
   "language": "python",
   "name": "conda-env-anaconda-2024.02-py310-py"
  },
  "language_info": {
   "codemirror_mode": {
    "name": "ipython",
    "version": 3
   },
   "file_extension": ".py",
   "mimetype": "text/x-python",
   "name": "python",
   "nbconvert_exporter": "python",
   "pygments_lexer": "ipython3",
   "version": "3.10.14"
  }
 },
 "nbformat": 4,
 "nbformat_minor": 5
}
